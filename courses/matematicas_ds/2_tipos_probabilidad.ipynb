{
 "cells": [
  {
   "cell_type": "markdown",
   "metadata": {},
   "source": [
    "# Tipos de probabilidad"
   ]
  },
  {
   "cell_type": "markdown",
   "metadata": {},
   "source": [
    "## Conjunta"
   ]
  },
  {
   "cell_type": "markdown",
   "metadata": {},
   "source": [
    "Es la probabilidad de que ocurran dos o mas sucesos.  \n",
    "  \n",
    "**responde a:** ¿Cual es la probabilidad de se lancen dos dados y ambos salgan par?"
   ]
  },
  {
   "cell_type": "markdown",
   "metadata": {},
   "source": [
    "## Marginal"
   ]
  },
  {
   "cell_type": "markdown",
   "metadata": {},
   "source": [
    "Es la probabilidad de que ocurran un evento\n",
    "  \n",
    "**responde a:** ¿Cual es la probabilidad de que un dado sea par?"
   ]
  },
  {
   "cell_type": "markdown",
   "metadata": {},
   "source": [
    "## Condicional"
   ]
  },
  {
   "cell_type": "markdown",
   "metadata": {},
   "source": [
    "Es la probabilidad de que ocurra un evento dado otro\n",
    "  \n",
    "**responde a:** ¿Cual es la probabilidad de que un dado sea par sabiendo que uno ya salió par?"
   ]
  },
  {
   "cell_type": "markdown",
   "metadata": {},
   "source": [
    "# Conceptos relevantes"
   ]
  },
  {
   "cell_type": "markdown",
   "metadata": {},
   "source": [
    "## Regla de la adición"
   ]
  },
  {
   "cell_type": "markdown",
   "metadata": {},
   "source": [
    "Eventos no excluyentes:  \n",
    "  \n",
    "$P(A U B) = P(A) + P(B) - P(A \\cap B)$  \n",
    "  \n",
    "Eventos excluyentes:  \n",
    "  \n",
    "$P(A U B) = P(A) + P(B)$"
   ]
  },
  {
   "cell_type": "markdown",
   "metadata": {},
   "source": [
    "## Probabilidad condicional"
   ]
  },
  {
   "cell_type": "markdown",
   "metadata": {},
   "source": [
    "Selee como la probabilidad de A dado B  \n",
    "  \n",
    "Se representa:  \n",
    "$P(A|B)$  \n",
    "  \n",
    "  \n",
    "Para eventos expluyentes  \n",
    "$P(A|B) = P(A)$  \n",
    "$P(B|A) = P(B)$  \n"
   ]
  },
  {
   "cell_type": "markdown",
   "metadata": {},
   "source": [
    "## Regla de la multiplicación"
   ]
  },
  {
   "cell_type": "markdown",
   "metadata": {},
   "source": [
    "$P(A \\cap B ) = P(A) * P(B|A)$"
   ]
  },
  {
   "cell_type": "markdown",
   "metadata": {},
   "source": [
    "## Teorema de bayes"
   ]
  },
  {
   "cell_type": "markdown",
   "metadata": {},
   "source": [
    "$P(B|A) = \\frac{P(A|B) P(B)}{P{A}}$"
   ]
  }
 ],
 "metadata": {
  "language_info": {
   "name": "python"
  }
 },
 "nbformat": 4,
 "nbformat_minor": 2
}
