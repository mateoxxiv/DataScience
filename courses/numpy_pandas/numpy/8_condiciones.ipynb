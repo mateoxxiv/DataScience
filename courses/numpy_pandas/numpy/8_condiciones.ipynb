{
 "cells": [
  {
   "cell_type": "code",
   "execution_count": 1,
   "metadata": {},
   "outputs": [],
   "source": [
    "import numpy as np\n",
    "array = np.linspace(1,20,30)"
   ]
  },
  {
   "cell_type": "markdown",
   "metadata": {},
   "source": [
    "# Darle condiciones a un arreglo"
   ]
  },
  {
   "cell_type": "code",
   "execution_count": 2,
   "metadata": {},
   "outputs": [
    {
     "data": {
      "text/plain": [
       "array([False, False, False, False, False, False, False, False, False,\n",
       "       False, False, False, False, False, False, False, False, False,\n",
       "       False, False, False, False,  True,  True,  True,  True,  True,\n",
       "        True,  True,  True])"
      ]
     },
     "execution_count": 2,
     "metadata": {},
     "output_type": "execute_result"
    }
   ],
   "source": [
    "array > 15"
   ]
  },
  {
   "cell_type": "code",
   "execution_count": 3,
   "metadata": {},
   "outputs": [
    {
     "data": {
      "text/plain": [
       "array([ 1.        ,  1.65517241,  2.31034483,  2.96551724,  3.62068966,\n",
       "        4.27586207,  4.93103448,  5.5862069 ,  6.24137931,  6.89655172,\n",
       "        7.55172414,  8.20689655,  8.86206897,  9.51724138, 10.17241379,\n",
       "       10.82758621, 11.48275862, 12.13793103, 12.79310345, 13.44827586,\n",
       "       14.10344828, 14.75862069, 17.37931034, 18.03448276, 18.68965517,\n",
       "       19.34482759, 20.        ])"
      ]
     },
     "execution_count": 3,
     "metadata": {},
     "output_type": "execute_result"
    }
   ],
   "source": [
    "# Condición simple\n",
    "array[array > 15]\n",
    "\n",
    "# Condición and\n",
    "array[(array > 15) & (array < 17)]\n",
    "\n",
    "# Condición or\n",
    "array[(array < 15) | (array > 17)]"
   ]
  }
 ],
 "metadata": {
  "kernelspec": {
   "display_name": "Python 3",
   "language": "python",
   "name": "python3"
  },
  "language_info": {
   "codemirror_mode": {
    "name": "ipython",
    "version": 3
   },
   "file_extension": ".py",
   "mimetype": "text/x-python",
   "name": "python",
   "nbconvert_exporter": "python",
   "pygments_lexer": "ipython3",
   "version": "3.11.5"
  }
 },
 "nbformat": 4,
 "nbformat_minor": 2
}
