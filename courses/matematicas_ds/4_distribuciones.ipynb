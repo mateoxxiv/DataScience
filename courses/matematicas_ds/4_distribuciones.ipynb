{
 "cells": [
  {
   "cell_type": "markdown",
   "metadata": {},
   "source": [
    "# Es"
   ]
  },
  {
   "cell_type": "markdown",
   "metadata": {},
   "source": [
    "Una función, que para una variable aleatoria, le asigna a cada uno de sus posibles estados una probabilidad"
   ]
  },
  {
   "cell_type": "markdown",
   "metadata": {},
   "source": [
    "$$P(X = x)$$"
   ]
  },
  {
   "cell_type": "markdown",
   "metadata": {},
   "source": [
    "P: Función de probabilidad  \n",
    "  \n",
    "X: Variable aleatoria  \n",
    "  \n",
    "x: Un posible valor en el espacio muestral"
   ]
  },
  {
   "cell_type": "markdown",
   "metadata": {},
   "source": [
    "# Función de densidad"
   ]
  },
  {
   "cell_type": "markdown",
   "metadata": {},
   "source": [
    "$$\\text{función densidad probabilidad} = P(x)$$"
   ]
  },
  {
   "cell_type": "markdown",
   "metadata": {},
   "source": [
    "## Para hallar la probabilidad de que la función tome un valor"
   ]
  },
  {
   "cell_type": "markdown",
   "metadata": {},
   "source": [
    "$$P(X = x)$$"
   ]
  },
  {
   "cell_type": "markdown",
   "metadata": {},
   "source": [
    "## Para hallar la probabilidad de que la función tome un rango de valores"
   ]
  },
  {
   "cell_type": "markdown",
   "metadata": {},
   "source": [
    "\n",
    "$$P(X \\leq x ) =  \\int_{0}^{x}P(x) d_x = C(X) \\text{, para valores continuos}$$  \n",
    "  \n",
    "$$P(X \\leq x ) =  \\sum_{0}^{x}P(x) = C(X) \\text{, para valores discretos}$$"
   ]
  }
 ],
 "metadata": {
  "language_info": {
   "name": "python"
  }
 },
 "nbformat": 4,
 "nbformat_minor": 2
}
