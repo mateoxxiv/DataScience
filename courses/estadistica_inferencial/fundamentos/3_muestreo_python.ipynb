{
 "cells": [
  {
   "cell_type": "code",
   "execution_count": 1,
   "metadata": {},
   "outputs": [],
   "source": [
    "import pandas as pd\n",
    "import numpy as np\n",
    "import random\n",
    "import io"
   ]
  },
  {
   "cell_type": "markdown",
   "metadata": {},
   "source": [
    "### Leer la base de datos"
   ]
  },
  {
   "cell_type": "code",
   "execution_count": 2,
   "metadata": {},
   "outputs": [],
   "source": [
    "data = pd.read_csv('./datos/data1.csv')"
   ]
  },
  {
   "cell_type": "markdown",
   "metadata": {},
   "source": [
    "### Funciones de muestro"
   ]
  },
  {
   "cell_type": "markdown",
   "metadata": {},
   "source": [
    "#### Muestreo aleatorio simple"
   ]
  },
  {
   "cell_type": "code",
   "execution_count": 3,
   "metadata": {},
   "outputs": [],
   "source": [
    "# Pedir una muestra de 8 elementos\n",
    "aleatoro_8 = data.sample(8)\n",
    "\n",
    "# Pedit una muestra con un porcentage de los datos\n",
    "aleatoro_25p = data.sample(frac=0.25)\n"
   ]
  },
  {
   "cell_type": "markdown",
   "metadata": {},
   "source": [
    "#### Muestreo sistematico"
   ]
  },
  {
   "cell_type": "code",
   "execution_count": 4,
   "metadata": {},
   "outputs": [],
   "source": [
    "def sistematic_smapling(data, steps):\n",
    "    index = np.arange(0, len(data), step=steps)\n",
    "    systematic_data = data.iloc[index]\n",
    "    return systematic_data\n",
    "\n",
    "sys_sample = sistematic_smapling(data, 5).head()"
   ]
  },
  {
   "cell_type": "markdown",
   "metadata": {},
   "source": [
    "### Muestreo estratificado"
   ]
  },
  {
   "cell_type": "code",
   "execution_count": 5,
   "metadata": {},
   "outputs": [
    {
     "data": {
      "text/plain": [
       "estratificado\n",
       "Cuautémoc,Hotel                0.643478\n",
       "Cuautémoc,Museo                0.156522\n",
       "Venustiano Carranza,Hotel      0.078261\n",
       "Cuauhtémoc,Mercado             0.073913\n",
       "Venustiano Carranza,Mercado    0.047826\n",
       "Name: count, dtype: float64"
      ]
     },
     "execution_count": 5,
     "metadata": {},
     "output_type": "execute_result"
    }
   ],
   "source": [
    "data['estratificado'] = data['delegacion'] + ',' + data['tipo'] \n",
    "cat = (data['estratificado'].value_counts()/len(data['estratificado'])).sort_values(ascending=False)\n",
    "cat"
   ]
  },
  {
   "cell_type": "code",
   "execution_count": 6,
   "metadata": {},
   "outputs": [],
   "source": [
    "def data_estratificada(data, cols, values, prop, random_state=None):\n",
    "\n",
    "    # Definimos el df donde vamos a guardar nuestras muestras\n",
    "    df_strat = pd.DataFrame(columns=data.columns)\n",
    "    pos = -1\n",
    "    for i in range(len(values)):\n",
    "        pos += 1\n",
    "        # Definimos la proporción para realizar el muestreo\n",
    "        if pos == len(values) - 1:\n",
    "            ratio_len = len(data) - len(df_strat)\n",
    "        else:\n",
    "            ratio_len = int(len(data) * prop[i])\n",
    "        \n",
    "        # Filtramos nuestros datos por el grupo estratificado de la iteraciín\n",
    "        df_filtrado = data[data[cols] == values[i]]\n",
    "\n",
    "        # Sacamos una muestra de nuestro data filtrado con la proporció  que se halló\n",
    "        df_temp = df_filtrado.sample(replace=True, n=ratio_len, random_state=random_state)\n",
    "\n",
    "        # Se concatenen los dataframes\n",
    "        df_strat = pd.concat([df_strat, df_temp])\n",
    "    return df_strat"
   ]
  },
  {
   "cell_type": "code",
   "execution_count": 7,
   "metadata": {},
   "outputs": [
    {
     "data": {
      "text/html": [
       "<div>\n",
       "<style scoped>\n",
       "    .dataframe tbody tr th:only-of-type {\n",
       "        vertical-align: middle;\n",
       "    }\n",
       "\n",
       "    .dataframe tbody tr th {\n",
       "        vertical-align: top;\n",
       "    }\n",
       "\n",
       "    .dataframe thead th {\n",
       "        text-align: right;\n",
       "    }\n",
       "</style>\n",
       "<table border=\"1\" class=\"dataframe\">\n",
       "  <thead>\n",
       "    <tr style=\"text-align: right;\">\n",
       "      <th></th>\n",
       "      <th>id</th>\n",
       "      <th>geo_point_2d</th>\n",
       "      <th>geo_shape</th>\n",
       "      <th>clave_cat</th>\n",
       "      <th>delegacion</th>\n",
       "      <th>perimetro</th>\n",
       "      <th>tipo</th>\n",
       "      <th>nom_id</th>\n",
       "      <th>estratificado</th>\n",
       "    </tr>\n",
       "  </thead>\n",
       "  <tbody>\n",
       "    <tr>\n",
       "      <th>164</th>\n",
       "      <td>164</td>\n",
       "      <td>19.4388741511,-99.1413308257</td>\n",
       "      <td>{\"type\": \"MultiPoint\", \"coordinates\": [[-99.14...</td>\n",
       "      <td>003_113_03</td>\n",
       "      <td>Cuautémoc</td>\n",
       "      <td>B</td>\n",
       "      <td>Hotel</td>\n",
       "      <td>Dos Naciones</td>\n",
       "      <td>Cuautémoc,Hotel</td>\n",
       "    </tr>\n",
       "    <tr>\n",
       "      <th>142</th>\n",
       "      <td>142</td>\n",
       "      <td>19.4263681354,-99.1327278126</td>\n",
       "      <td>{\"type\": \"MultiPoint\", \"coordinates\": [[-99.13...</td>\n",
       "      <td>006_127_14</td>\n",
       "      <td>Cuautémoc</td>\n",
       "      <td>A</td>\n",
       "      <td>Hotel</td>\n",
       "      <td>Ambar</td>\n",
       "      <td>Cuautémoc,Hotel</td>\n",
       "    </tr>\n",
       "    <tr>\n",
       "      <th>27</th>\n",
       "      <td>27</td>\n",
       "      <td>19.4348360773,-99.1463945583</td>\n",
       "      <td>{\"type\": \"MultiPoint\", \"coordinates\": [[-99.14...</td>\n",
       "      <td>002_016_01</td>\n",
       "      <td>Cuautémoc</td>\n",
       "      <td>B</td>\n",
       "      <td>Hotel</td>\n",
       "      <td>Hilton Centro Histórico</td>\n",
       "      <td>Cuautémoc,Hotel</td>\n",
       "    </tr>\n",
       "    <tr>\n",
       "      <th>168</th>\n",
       "      <td>168</td>\n",
       "      <td>19.4349726565,-99.147766133</td>\n",
       "      <td>{\"type\": \"MultiPoint\", \"coordinates\": [[-99.14...</td>\n",
       "      <td>002_014_23</td>\n",
       "      <td>Cuautémoc</td>\n",
       "      <td>B</td>\n",
       "      <td>Hotel</td>\n",
       "      <td>One Alameda</td>\n",
       "      <td>Cuautémoc,Hotel</td>\n",
       "    </tr>\n",
       "    <tr>\n",
       "      <th>113</th>\n",
       "      <td>113</td>\n",
       "      <td>19.43374405,-99.13550135</td>\n",
       "      <td>{\"type\": \"MultiPoint\", \"coordinates\": [[-99.13...</td>\n",
       "      <td>001_012_13</td>\n",
       "      <td>Cuautémoc</td>\n",
       "      <td>A</td>\n",
       "      <td>Hotel</td>\n",
       "      <td>San Antonio</td>\n",
       "      <td>Cuautémoc,Hotel</td>\n",
       "    </tr>\n",
       "    <tr>\n",
       "      <th>...</th>\n",
       "      <td>...</td>\n",
       "      <td>...</td>\n",
       "      <td>...</td>\n",
       "      <td>...</td>\n",
       "      <td>...</td>\n",
       "      <td>...</td>\n",
       "      <td>...</td>\n",
       "      <td>...</td>\n",
       "      <td>...</td>\n",
       "    </tr>\n",
       "    <tr>\n",
       "      <th>204</th>\n",
       "      <td>204</td>\n",
       "      <td>19.4260286762,-99.1249971994</td>\n",
       "      <td>{\"type\": \"Polygon\", \"coordinates\": [[[-99.1253...</td>\n",
       "      <td>323_138_01</td>\n",
       "      <td>Venustiano Carranza</td>\n",
       "      <td>B</td>\n",
       "      <td>Mercado</td>\n",
       "      <td>Florería</td>\n",
       "      <td>Venustiano Carranza,Mercado</td>\n",
       "    </tr>\n",
       "    <tr>\n",
       "      <th>49</th>\n",
       "      <td>49</td>\n",
       "      <td>19.4264953358,-99.1248854383</td>\n",
       "      <td>{\"type\": \"Polygon\", \"coordinates\": [[[-99.1252...</td>\n",
       "      <td>323_139_01</td>\n",
       "      <td>Venustiano Carranza</td>\n",
       "      <td>B</td>\n",
       "      <td>Mercado</td>\n",
       "      <td>Dulceria Don Goloso</td>\n",
       "      <td>Venustiano Carranza,Mercado</td>\n",
       "    </tr>\n",
       "    <tr>\n",
       "      <th>157</th>\n",
       "      <td>157</td>\n",
       "      <td>19.4272935771,-99.1227492994</td>\n",
       "      <td>{\"type\": \"Polygon\", \"coordinates\": [[[-99.1230...</td>\n",
       "      <td>323_063_08</td>\n",
       "      <td>Venustiano Carranza</td>\n",
       "      <td>B</td>\n",
       "      <td>Mercado</td>\n",
       "      <td>Merced Comidas</td>\n",
       "      <td>Venustiano Carranza,Mercado</td>\n",
       "    </tr>\n",
       "    <tr>\n",
       "      <th>216</th>\n",
       "      <td>216</td>\n",
       "      <td>19.4247697438,-99.1249707246</td>\n",
       "      <td>{\"type\": \"Polygon\", \"coordinates\": [[[-99.1250...</td>\n",
       "      <td>323_118_37</td>\n",
       "      <td>Venustiano Carranza</td>\n",
       "      <td>B</td>\n",
       "      <td>Mercado</td>\n",
       "      <td>Lamininas de La Merced</td>\n",
       "      <td>Venustiano Carranza,Mercado</td>\n",
       "    </tr>\n",
       "    <tr>\n",
       "      <th>216</th>\n",
       "      <td>216</td>\n",
       "      <td>19.4247697438,-99.1249707246</td>\n",
       "      <td>{\"type\": \"Polygon\", \"coordinates\": [[[-99.1250...</td>\n",
       "      <td>323_118_37</td>\n",
       "      <td>Venustiano Carranza</td>\n",
       "      <td>B</td>\n",
       "      <td>Mercado</td>\n",
       "      <td>Lamininas de La Merced</td>\n",
       "      <td>Venustiano Carranza,Mercado</td>\n",
       "    </tr>\n",
       "  </tbody>\n",
       "</table>\n",
       "<p>230 rows × 9 columns</p>\n",
       "</div>"
      ],
      "text/plain": [
       "      id                  geo_point_2d  \\\n",
       "164  164  19.4388741511,-99.1413308257   \n",
       "142  142  19.4263681354,-99.1327278126   \n",
       "27    27  19.4348360773,-99.1463945583   \n",
       "168  168   19.4349726565,-99.147766133   \n",
       "113  113      19.43374405,-99.13550135   \n",
       "..   ...                           ...   \n",
       "204  204  19.4260286762,-99.1249971994   \n",
       "49    49  19.4264953358,-99.1248854383   \n",
       "157  157  19.4272935771,-99.1227492994   \n",
       "216  216  19.4247697438,-99.1249707246   \n",
       "216  216  19.4247697438,-99.1249707246   \n",
       "\n",
       "                                             geo_shape   clave_cat  \\\n",
       "164  {\"type\": \"MultiPoint\", \"coordinates\": [[-99.14...  003_113_03   \n",
       "142  {\"type\": \"MultiPoint\", \"coordinates\": [[-99.13...  006_127_14   \n",
       "27   {\"type\": \"MultiPoint\", \"coordinates\": [[-99.14...  002_016_01   \n",
       "168  {\"type\": \"MultiPoint\", \"coordinates\": [[-99.14...  002_014_23   \n",
       "113  {\"type\": \"MultiPoint\", \"coordinates\": [[-99.13...  001_012_13   \n",
       "..                                                 ...         ...   \n",
       "204  {\"type\": \"Polygon\", \"coordinates\": [[[-99.1253...  323_138_01   \n",
       "49   {\"type\": \"Polygon\", \"coordinates\": [[[-99.1252...  323_139_01   \n",
       "157  {\"type\": \"Polygon\", \"coordinates\": [[[-99.1230...  323_063_08   \n",
       "216  {\"type\": \"Polygon\", \"coordinates\": [[[-99.1250...  323_118_37   \n",
       "216  {\"type\": \"Polygon\", \"coordinates\": [[[-99.1250...  323_118_37   \n",
       "\n",
       "              delegacion perimetro     tipo                   nom_id  \\\n",
       "164            Cuautémoc         B    Hotel             Dos Naciones   \n",
       "142            Cuautémoc         A    Hotel                    Ambar   \n",
       "27             Cuautémoc         B    Hotel  Hilton Centro Histórico   \n",
       "168            Cuautémoc         B    Hotel              One Alameda   \n",
       "113            Cuautémoc         A    Hotel              San Antonio   \n",
       "..                   ...       ...      ...                      ...   \n",
       "204  Venustiano Carranza         B  Mercado                 Florería   \n",
       "49   Venustiano Carranza         B  Mercado      Dulceria Don Goloso   \n",
       "157  Venustiano Carranza         B  Mercado           Merced Comidas   \n",
       "216  Venustiano Carranza         B  Mercado   Lamininas de La Merced   \n",
       "216  Venustiano Carranza         B  Mercado   Lamininas de La Merced   \n",
       "\n",
       "                   estratificado  \n",
       "164              Cuautémoc,Hotel  \n",
       "142              Cuautémoc,Hotel  \n",
       "27               Cuautémoc,Hotel  \n",
       "168              Cuautémoc,Hotel  \n",
       "113              Cuautémoc,Hotel  \n",
       "..                           ...  \n",
       "204  Venustiano Carranza,Mercado  \n",
       "49   Venustiano Carranza,Mercado  \n",
       "157  Venustiano Carranza,Mercado  \n",
       "216  Venustiano Carranza,Mercado  \n",
       "216  Venustiano Carranza,Mercado  \n",
       "\n",
       "[230 rows x 9 columns]"
      ]
     },
     "execution_count": 7,
     "metadata": {},
     "output_type": "execute_result"
    }
   ],
   "source": [
    "values = list(cat.keys())\n",
    "prop = list(cat.values)\n",
    "\n",
    "data_estratificada(data, cols='estratificado', values=values, prop=prop, random_state= 42)"
   ]
  },
  {
   "cell_type": "code",
   "execution_count": 8,
   "metadata": {},
   "outputs": [
    {
     "data": {
      "text/plain": [
       "[np.float64(0.6434782608695652),\n",
       " np.float64(0.1565217391304348),\n",
       " np.float64(0.0782608695652174),\n",
       " np.float64(0.07391304347826087),\n",
       " np.float64(0.04782608695652174)]"
      ]
     },
     "execution_count": 8,
     "metadata": {},
     "output_type": "execute_result"
    }
   ],
   "source": [
    "prop"
   ]
  },
  {
   "cell_type": "code",
   "execution_count": null,
   "metadata": {},
   "outputs": [],
   "source": []
  }
 ],
 "metadata": {
  "kernelspec": {
   "display_name": "venv",
   "language": "python",
   "name": "python3"
  },
  "language_info": {
   "codemirror_mode": {
    "name": "ipython",
    "version": 3
   },
   "file_extension": ".py",
   "mimetype": "text/x-python",
   "name": "python",
   "nbconvert_exporter": "python",
   "pygments_lexer": "ipython3",
   "version": "3.11.5"
  }
 },
 "nbformat": 4,
 "nbformat_minor": 2
}
