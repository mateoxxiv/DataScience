{
 "cells": [
  {
   "cell_type": "code",
   "execution_count": 1,
   "metadata": {},
   "outputs": [],
   "source": [
    "import numpy as np"
   ]
  },
  {
   "cell_type": "markdown",
   "metadata": {},
   "source": [
    "# Tipo de dato del array"
   ]
  },
  {
   "cell_type": "markdown",
   "metadata": {},
   "source": [
    "Un array solo puede contener un unico tipo de dato"
   ]
  },
  {
   "cell_type": "code",
   "execution_count": 2,
   "metadata": {},
   "outputs": [
    {
     "data": {
      "text/plain": [
       "dtype('int64')"
      ]
     },
     "execution_count": 2,
     "metadata": {},
     "output_type": "execute_result"
    }
   ],
   "source": [
    "# Formas de asignarle el ripo de dato \n",
    "\n",
    "array = np.array([1,2,3,4], dtype=int)\n",
    "array.astype(int)\n",
    "\n",
    "array.dtype"
   ]
  },
  {
   "cell_type": "markdown",
   "metadata": {},
   "source": [
    "# Asignarle un tipo de dato al array"
   ]
  },
  {
   "cell_type": "code",
   "execution_count": 3,
   "metadata": {},
   "outputs": [],
   "source": [
    "# Asignarle tipo entero\n",
    "array1 = np.array([1,2,3,4], dtype=int)\n",
    "\n",
    "# Asignarle tipo flotante\n",
    "array1 = np.array([1,2,3,4], dtype=float)\n",
    "\n",
    "# Asignarle tipo flotante\n",
    "array1 = np.array([1,2,3,4], dtype=float)\n",
    "\n",
    "# Asignarle tipo booleano\n",
    "array1 = np.array([1,2,3,4], dtype=bool)\n",
    "\n",
    "# Asignarle tipo texto\n",
    "array1 = np.array([1,2,3,4], dtype=str)\n"
   ]
  }
 ],
 "metadata": {
  "kernelspec": {
   "display_name": "Python 3",
   "language": "python",
   "name": "python3"
  },
  "language_info": {
   "codemirror_mode": {
    "name": "ipython",
    "version": 3
   },
   "file_extension": ".py",
   "mimetype": "text/x-python",
   "name": "python",
   "nbconvert_exporter": "python",
   "pygments_lexer": "ipython3",
   "version": "3.11.5"
  }
 },
 "nbformat": 4,
 "nbformat_minor": 2
}
