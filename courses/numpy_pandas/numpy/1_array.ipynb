{
 "cells": [
  {
   "cell_type": "markdown",
   "metadata": {},
   "source": [
    "# Es"
   ]
  },
  {
   "cell_type": "markdown",
   "metadata": {},
   "source": [
    "Es el principal objeto de la libreria:  \n",
    "- Representa los datos de forma ordenada.\n",
    "- Es indexado.\n",
    "- Se puede acceder a uno o grupo de datos."
   ]
  },
  {
   "cell_type": "markdown",
   "metadata": {},
   "source": [
    "# Definición"
   ]
  },
  {
   "cell_type": "code",
   "execution_count": 2,
   "metadata": {},
   "outputs": [
    {
     "name": "stdout",
     "output_type": "stream",
     "text": [
      "<class 'numpy.ndarray'>\n"
     ]
    }
   ],
   "source": [
    "import numpy as np\n",
    "\n",
    "list = [1,2,3,4,5]\n",
    "array = np.array(list)\n",
    "\n",
    "print(type(array))"
   ]
  },
  {
   "cell_type": "markdown",
   "metadata": {},
   "source": [
    "# Array de multiples dimesiones"
   ]
  },
  {
   "cell_type": "code",
   "execution_count": 3,
   "metadata": {},
   "outputs": [
    {
     "name": "stdout",
     "output_type": "stream",
     "text": [
      "[[1 2 3]\n",
      " [4 5 6]\n",
      " [7 8 9]]\n"
     ]
    }
   ],
   "source": [
    "matrix = [[1,2,3],[4,5,6],[7,8,9]]\n",
    "array2 = np.array(matrix)\n",
    "print(array2)"
   ]
  },
  {
   "cell_type": "markdown",
   "metadata": {},
   "source": [
    "# Acceder a los elementos de array"
   ]
  },
  {
   "cell_type": "code",
   "execution_count": 21,
   "metadata": {},
   "outputs": [
    {
     "name": "stdout",
     "output_type": "stream",
     "text": [
      "primer valor 1\n",
      "acceder a los primeros tres valores [1 2 3]\n",
      "acceder a los primeros tres valores dando un paso de tamaño 2 [1 3 5]\n",
      "acceder al ultimo valor 5\n",
      "====================\n",
      "primera fila [1 2 3]\n",
      "primer valor de la primera fila 1\n",
      "traer desde la segunda fila [[4 5 6]\n",
      " [7 8 9]]\n",
      "traer desde la segunda fila, las primeras dos columnas [[4 5]\n",
      " [7 8]]\n"
     ]
    }
   ],
   "source": [
    "# Retornar el primer valor, iniciando desde 0\n",
    "array[0]\n",
    "\n",
    "# Acceder a los primeros tres valores\n",
    "array[:3]\n",
    "\n",
    "# Acceder a los primeros tres valores dando un paso de tamaño 2\n",
    "array[::2]\n",
    "\n",
    "# Acceder al último valor\n",
    "array[-1]\n",
    "\n",
    "# ====================\n",
    "\n",
    "# Retornar valores de matrices\n",
    "# Primera fila\n",
    "array2[0]\n",
    "\n",
    "# Primer valor de la primera fila\n",
    "array2[0, 0]\n",
    "\n",
    "# Traer desde la segunda fila\n",
    "array2[1:]\n",
    "\n",
    "# Traer desde la segunda fila, las primeras dos columnas\n",
    "array2[1:, :2]\n"
   ]
  }
 ],
 "metadata": {
  "kernelspec": {
   "display_name": "Python 3",
   "language": "python",
   "name": "python3"
  },
  "language_info": {
   "codemirror_mode": {
    "name": "ipython",
    "version": 3
   },
   "file_extension": ".py",
   "mimetype": "text/x-python",
   "name": "python",
   "nbconvert_exporter": "python",
   "pygments_lexer": "ipython3",
   "version": "3.11.5"
  }
 },
 "nbformat": 4,
 "nbformat_minor": 2
}
