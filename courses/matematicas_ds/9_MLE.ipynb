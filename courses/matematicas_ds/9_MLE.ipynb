{
 "cells": [
  {
   "cell_type": "markdown",
   "metadata": {},
   "source": [
    "# Maximum Likelihood Estimation"
   ]
  },
  {
   "cell_type": "markdown",
   "metadata": {},
   "source": [
    "Es una técnica que nos permite estimar densidades de probabilidad dentro de un esquema de trabajo general"
   ]
  },
  {
   "cell_type": "markdown",
   "metadata": {},
   "source": [
    "## Elementos"
   ]
  },
  {
   "cell_type": "markdown",
   "metadata": {},
   "source": [
    "1. **Escoger la distribución:** teniendo solo una muestra de los datos  \n",
    "  \n",
    "2. **Escoger los parametos de la distribución:** aqueelos que se ajustan mejor a los datos"
   ]
  },
  {
   "cell_type": "markdown",
   "metadata": {},
   "source": [
    "## Es un problema de optimización"
   ]
  },
  {
   "cell_type": "markdown",
   "metadata": {},
   "source": [
    "### 1. **Primera Fórmula: Relación entre la probabilidad y la función de verosimilitud**\n",
    "\n",
    "$$\n",
    "P(X; \\theta) = L(X; \\theta)\n",
    "$$\n",
    "\n",
    "- **Descripción:** Aquí, \\( P(X; \\theta) \\) representa la función de probabilidad de los datos \\( X \\) dado un conjunto de parámetros \\( \\theta \\). Esta probabilidad se define como la **función de verosimilitud** \\( L(X; \\theta) \\) cuando se la considera como una función de \\( \\theta \\) (con los datos \\( X \\) fijos).\n",
    "  \n",
    "- **Significado:** En el contexto de MLE, dado un conjunto de datos observado \\( X \\), queremos encontrar el valor de \\( \\theta \\) que maximiza la probabilidad de observar esos datos. Por lo tanto, la función de verosimilitud \\( L(X; \\theta) \\) es la misma que la función de probabilidad, pero vista desde la perspectiva de maximizar \\( \\theta \\) en lugar de calcular la probabilidad de los datos.\n",
    "\n",
    "### 2. **Segunda Fórmula: Maximización de la función de verosimilitud**\n",
    "\n",
    "$$\n",
    "\\max L(X; \\theta) \\rightarrow \\max \\prod_{i} P(X_i; \\theta)\n",
    "$$\n",
    "\n",
    "- **Descripción:** Esta fórmula expresa que, para encontrar los estimadores de máxima verosimilitud, buscamos maximizar la función de verosimilitud \\( L(X; \\theta) \\). En un conjunto de datos donde los datos \\( X \\) consisten en \\( n \\) observaciones independientes \\( X_1, X_2, \\dots, X_n \\), la verosimilitud conjunta de estos datos es el producto de las probabilidades individuales: \\( \\prod_{i} P(X_i; \\theta) \\).\n",
    "\n",
    "- **Significado:** En la práctica, calculamos la verosimilitud total como el producto de las probabilidades individuales de cada observación. El objetivo es encontrar el valor de \\( \\theta \\) que maximiza este producto, es decir, el que hace que los datos observados sean más probables bajo el modelo.\n",
    "\n",
    "### 3. **Tercera Fórmula: Maximización del logaritmo de la verosimilitud**\n",
    "\n",
    "$$\n",
    "\\max \\ln L(X; \\theta) \\rightarrow \\max \\sum_{i} \\ln P(X_i; \\theta)\n",
    "$$\n",
    "\n",
    "- **Descripción:** Esta fórmula se deriva de la anterior. Dado que la verosimilitud conjunta puede ser un producto de muchas probabilidades, trabajar directamente con este producto puede ser complicado debido a la posibilidad de que los valores sean extremadamente pequeños. Para simplificar el cálculo y evitar problemas numéricos, se toma el logaritmo de la función de verosimilitud.\n",
    "\n",
    "- **Significado:** Tomar el logaritmo convierte el producto de probabilidades en una suma de logaritmos, lo que es matemáticamente más manejable y computacionalmente más estable. Maximizar la log-verosimilitud (logarithm of the likelihood) es equivalente a maximizar la verosimilitud, pero facilita los cálculos. El objetivo sigue siendo el mismo: encontrar el valor de \\( \\theta \\) que maximiza esta suma de logaritmos, lo cual maximiza la probabilidad de los datos observados.\n",
    "\n",
    "### Resumen del Proceso MLE\n",
    "\n",
    "1. **Función de Verosimilitud:** La verosimilitud es la probabilidad de los datos dados ciertos parámetros. Se busca maximizar esta función con respecto a los parámetros \\( \\theta \\).\n",
    "  \n",
    "2. **Producto de Probabilidades:** Para datos independientes, la verosimilitud conjunta es el producto de las probabilidades individuales de cada dato.\n",
    "\n",
    "3. **Log-Verosimilitud:** Para simplificar los cálculos, se maximiza el logaritmo de la función de verosimilitud, que convierte el producto en una suma.\n",
    "\n",
    "El **Estimador de Máxima Verosimilitud** es el valor del parámetro \\( \\theta \\) que maximiza la función de log-verosimilitud. Este método es muy potente y ampliamente utilizado debido a su capacidad para producir estimaciones con buenas propiedades estadísticas bajo ciertas condiciones.\n"
   ]
  }
 ],
 "metadata": {
  "language_info": {
   "name": "python"
  }
 },
 "nbformat": 4,
 "nbformat_minor": 2
}
