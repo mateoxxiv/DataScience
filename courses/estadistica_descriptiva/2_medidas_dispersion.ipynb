{
 "cells": [
  {
   "cell_type": "code",
   "execution_count": 1,
   "metadata": {},
   "outputs": [],
   "source": [
    "import numpy as np\n",
    "from scipy import stats\n",
    "import matplotlib.pyplot as plt\n",
    "\n",
    "list = np.random.randint(1,10, 1000)"
   ]
  },
  {
   "cell_type": "markdown",
   "metadata": {},
   "source": [
    "# Es"
   ]
  },
  {
   "cell_type": "markdown",
   "metadata": {},
   "source": [
    "Que tanto difieren nuestros datos de nuestro valor central"
   ]
  },
  {
   "cell_type": "markdown",
   "metadata": {},
   "source": [
    "# Rango"
   ]
  },
  {
   "cell_type": "code",
   "execution_count": 8,
   "metadata": {},
   "outputs": [
    {
     "name": "stdout",
     "output_type": "stream",
     "text": [
      "rango:  8\n",
      "min:  9\n",
      "max:  1\n",
      "Q1:  3.0\n",
      "Q2 = mediana:  5.0\n",
      "Q3:  7.0\n"
     ]
    }
   ],
   "source": [
    "print('rango: ', np.max(list) - np.min(list))\n",
    "print('min: ', np.max(list))\n",
    "print('max: ', np.min(list))\n",
    "print('Q1: ', np.percentile(list,25))\n",
    "print('Q2 = mediana: ', np.percentile(list,50))\n",
    "print('Q3: ', np.percentile(list,75))"
   ]
  },
  {
   "cell_type": "markdown",
   "metadata": {},
   "source": [
    "# Rango intercuartil"
   ]
  },
  {
   "cell_type": "code",
   "execution_count": 3,
   "metadata": {},
   "outputs": [
    {
     "name": "stdout",
     "output_type": "stream",
     "text": [
      "Rango intercuartil:  4.0\n"
     ]
    }
   ],
   "source": [
    "print('Rango intercuartil: ', stats.iqr(list))"
   ]
  },
  {
   "cell_type": "markdown",
   "metadata": {},
   "source": [
    "# Desviación estandar"
   ]
  },
  {
   "cell_type": "code",
   "execution_count": 4,
   "metadata": {},
   "outputs": [
    {
     "name": "stdout",
     "output_type": "stream",
     "text": [
      "Desviación estandar:  2.572372445817285\n"
     ]
    }
   ],
   "source": [
    "print('Desviación estandar: ', np.std(list))"
   ]
  }
 ],
 "metadata": {
  "kernelspec": {
   "display_name": "Python 3",
   "language": "python",
   "name": "python3"
  },
  "language_info": {
   "codemirror_mode": {
    "name": "ipython",
    "version": 3
   },
   "file_extension": ".py",
   "mimetype": "text/x-python",
   "name": "python",
   "nbconvert_exporter": "python",
   "pygments_lexer": "ipython3",
   "version": "3.11.5"
  }
 },
 "nbformat": 4,
 "nbformat_minor": 2
}
