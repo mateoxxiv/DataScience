{
 "cells": [
  {
   "cell_type": "markdown",
   "metadata": {},
   "source": [
    "# Elementos"
   ]
  },
  {
   "cell_type": "markdown",
   "metadata": {},
   "source": [
    "$$P(A|B) = \\frac{P(B|A)P(A)}{P(B)}$$"
   ]
  },
  {
   "cell_type": "markdown",
   "metadata": {},
   "source": [
    "- P(A) - priori: Probabilidad inicial de ocurrencia que tengo der una variable aleatoria  \n",
    "  \n",
    "- P(B) - evidencia: Es una probabilidad que está condicionada por la probabilidad a priori  \n",
    "  \n",
    "- P(B|A) - verosimilitud: Es la probabilidad de obtener la evidnecia condicionado por el evento apriori  \n",
    "  \n",
    "- P(A|B) - postriori: Es la probabilidad de obtener priori condiciondada por el evento"
   ]
  },
  {
   "cell_type": "markdown",
   "metadata": {},
   "source": [
    "# MAP (maximum priori probability)"
   ]
  },
  {
   "cell_type": "markdown",
   "metadata": {},
   "source": [
    "Es un concepto de la estadística bayesiana, y se utiliza para estimar un parámetro desconocido en función de la evidencia observada y de un conocimiento previo (llamado prior)."
   ]
  },
  {
   "cell_type": "markdown",
   "metadata": {},
   "source": [
    "$$P(h|D) = \\frac{P(D|h)P(h)}{P(D)}$$"
   ]
  },
  {
   "cell_type": "markdown",
   "metadata": {},
   "source": [
    "donde:  \n",
    "- h: hipotesis  \n",
    "- D: Datos"
   ]
  },
  {
   "cell_type": "markdown",
   "metadata": {},
   "source": [
    "$$maxP(h|D)\\rightarrow maxP(D|h)P(h)$$"
   ]
  },
  {
   "cell_type": "markdown",
   "metadata": {},
   "source": []
  }
 ],
 "metadata": {
  "language_info": {
   "name": "python"
  }
 },
 "nbformat": 4,
 "nbformat_minor": 2
}
