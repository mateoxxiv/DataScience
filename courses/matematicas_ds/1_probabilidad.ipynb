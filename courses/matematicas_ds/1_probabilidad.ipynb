{
 "cells": [
  {
   "cell_type": "markdown",
   "metadata": {},
   "source": [
    "# Que es"
   ]
  },
  {
   "cell_type": "markdown",
   "metadata": {},
   "source": [
    "Es una rama de la matematica que nos permite modelar eventos en los que se nos presentan insertidumbre, productos del azar.  \n",
    "  \n",
    "Vivimos en una ralidad en donde no temos el 100% de la información de las situaciones que se nos presenta, es por esto que se desarrollarón herramientas que nos va a permitir cuantificar la insertidumbre."
   ]
  },
  {
   "cell_type": "markdown",
   "metadata": {},
   "source": [
    "# Definiciones"
   ]
  },
  {
   "cell_type": "markdown",
   "metadata": {},
   "source": [
    "## Suceso elemental"
   ]
  },
  {
   "cell_type": "markdown",
   "metadata": {},
   "source": [
    "Es un evento que es unico en un experimento.  \n",
    "  \n",
    "**Por ejemplo:** la probabilidad de que caiga 4 en un lanzamiento de datos, puesto que solo exite una cara con dicho numero en un dado."
   ]
  },
  {
   "cell_type": "markdown",
   "metadata": {},
   "source": [
    "## Suceso"
   ]
  },
  {
   "cell_type": "markdown",
   "metadata": {},
   "source": [
    "Es un evento que pasa en un experimento\n",
    "  \n",
    "**Por ejemplo:** la probabilidad de que caiga un numero par, ya que hay varios susceoss elementales que hacen parte de este suceso."
   ]
  },
  {
   "cell_type": "markdown",
   "metadata": {},
   "source": [
    "## Espacio muestral"
   ]
  },
  {
   "cell_type": "markdown",
   "metadata": {},
   "source": [
    "Es el conjunto de todos los posibles ocurrencias de un evento aleatorio"
   ]
  },
  {
   "cell_type": "markdown",
   "metadata": {},
   "source": [
    "# Axiomas"
   ]
  },
  {
   "cell_type": "markdown",
   "metadata": {},
   "source": [
    "La pribabilidad de que ocurra un evento es el numero de exitos entre el numero total de eventos"
   ]
  },
  {
   "cell_type": "markdown",
   "metadata": {},
   "source": [
    "$$P=\\frac{N_{exitos}}{N_{\\text{sucesos totales}}}$$"
   ]
  },
  {
   "cell_type": "markdown",
   "metadata": {},
   "source": [
    "- $0 < P < 1$  \n",
    "  \n",
    "- $\\text{certeza}\\rightarrow p=1$\n",
    "  \n",
    "- $\\text{imposibilidad}\\rightarrow p=0$\n",
    "  \n",
    "- $P(AUB) = P(A) + P(B) - P(A \\cap B)$"
   ]
  },
  {
   "cell_type": "markdown",
   "metadata": {},
   "source": [
    "# Fuentes de incertidumbre"
   ]
  },
  {
   "cell_type": "markdown",
   "metadata": {},
   "source": [
    "Todas estas fientes de incertidumbre son cuantificables"
   ]
  },
  {
   "cell_type": "markdown",
   "metadata": {},
   "source": [
    "## Datos"
   ]
  },
  {
   "cell_type": "markdown",
   "metadata": {},
   "source": [
    "Recoger y hacer medición de datos es un procedimiento inperfecto, por lo que introduce incertidumbre al modelo"
   ]
  },
  {
   "cell_type": "markdown",
   "metadata": {},
   "source": [
    "## Atributos del modelo"
   ]
  },
  {
   "cell_type": "markdown",
   "metadata": {},
   "source": [
    "Los atributos representan una realidad reducida de la realidad"
   ]
  },
  {
   "cell_type": "markdown",
   "metadata": {},
   "source": [
    "## Arquitectura de modelo"
   ]
  },
  {
   "cell_type": "markdown",
   "metadata": {},
   "source": [
    "Los modelos son una representación simplificada de la realiadad, por lo que proporciona información  limintado sobre el modelo real."
   ]
  },
  {
   "cell_type": "markdown",
   "metadata": {},
   "source": [
    "- Arquitectura\n",
    "- Parametros\n",
    "- Hyperparametros\n",
    "- Resultados"
   ]
  },
  {
   "cell_type": "markdown",
   "metadata": {},
   "source": []
  }
 ],
 "metadata": {
  "kernelspec": {
   "display_name": "venv",
   "language": "python",
   "name": "python3"
  },
  "language_info": {
   "name": "python",
   "version": "3.11.5"
  }
 },
 "nbformat": 4,
 "nbformat_minor": 2
}
