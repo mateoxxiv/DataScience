{
 "cells": [
  {
   "cell_type": "markdown",
   "metadata": {},
   "source": [
    "# Bernoulli"
   ]
  },
  {
   "cell_type": "markdown",
   "metadata": {},
   "source": [
    "Nos ayuda a describir eventos con ocurrencias binarias"
   ]
  },
  {
   "cell_type": "markdown",
   "metadata": {},
   "source": [
    " $$P(X=1) = p$$  \n",
    "   \n",
    " $$P(X=0) = 1-p$$  \n"
   ]
  },
  {
   "cell_type": "markdown",
   "metadata": {},
   "source": [
    "# Binomial"
   ]
  },
  {
   "cell_type": "markdown",
   "metadata": {},
   "source": [
    "Nos ayuda a describir la probabilidad de tener un numero de exitos en x numeros de experimentos repetitivos"
   ]
  },
  {
   "cell_type": "markdown",
   "metadata": {},
   "source": [
    "$$P(k,n) = p^k(1-p)^{(n-k)}$$\n",
    "  \n",
    "$$P(k,n,p) = (\\frac{n}{k}) p^k(1-p)^{n-k} = \\frac{n!}{k!(n-k)!}p^k(1-p)^{n-k}$$"
   ]
  },
  {
   "cell_type": "markdown",
   "metadata": {},
   "source": [
    "# Multinomial"
   ]
  },
  {
   "cell_type": "markdown",
   "metadata": {},
   "source": [
    "Es la generalizción de la distribución binomial"
   ]
  },
  {
   "cell_type": "markdown",
   "metadata": {},
   "source": [
    "$$P(X_1, X_2, ...., X_n) =\\frac{n!}{k_1! .... k_n!} p_1^{k_1} .... p_n^{k_n} $$"
   ]
  },
  {
   "cell_type": "markdown",
   "metadata": {},
   "source": [
    "# Otras distribuciones"
   ]
  },
  {
   "cell_type": "markdown",
   "metadata": {},
   "source": [
    "1. Poisson\n",
    "2. Geometrica\n",
    "3. Hipergeometrica\n",
    "4. Binomial negativa"
   ]
  },
  {
   "cell_type": "markdown",
   "metadata": {},
   "source": [
    "## Conceptos"
   ]
  },
  {
   "cell_type": "markdown",
   "metadata": {},
   "source": [
    "### Permutaciones"
   ]
  },
  {
   "cell_type": "markdown",
   "metadata": {},
   "source": [
    "Las permutaciones son arreglos de elementos en un orden específico. El orden importa, por lo que cambiar la posición de los elementos produce una permutación diferente.  \n",
    "  \n",
    "  \n",
    "**Si tengo n elementos y quiero saber las diferentes formas de combinarlos**"
   ]
  },
  {
   "cell_type": "markdown",
   "metadata": {},
   "source": [
    "$$P(n) = n!$$"
   ]
  },
  {
   "cell_type": "markdown",
   "metadata": {},
   "source": [
    "**Si tengo n elementos y quiero ordenar k elementos de esa lista:**"
   ]
  },
  {
   "cell_type": "markdown",
   "metadata": {},
   "source": [
    "$$P(n,k) = \\frac{n!}{(n-r)!}$$"
   ]
  },
  {
   "cell_type": "markdown",
   "metadata": {},
   "source": [
    "### Combinaciones"
   ]
  },
  {
   "cell_type": "markdown",
   "metadata": {},
   "source": [
    "Las combinaciones son selecciones de elementos donde el orden no importa. Es decir, un conjunto de elementos se considera el mismo sin importar el orden en el que se seleccionen."
   ]
  },
  {
   "cell_type": "markdown",
   "metadata": {},
   "source": [
    "**Si se tienen n elementos y se quieren seleccionar k elementos sin importar el order:**"
   ]
  },
  {
   "cell_type": "markdown",
   "metadata": {},
   "source": [
    "$$C(n,k) = (\\frac{n}{k}) = \\frac{n!}{k!(n-k)!}$$"
   ]
  },
  {
   "cell_type": "markdown",
   "metadata": {},
   "source": []
  }
 ],
 "metadata": {
  "language_info": {
   "name": "python"
  }
 },
 "nbformat": 4,
 "nbformat_minor": 2
}
